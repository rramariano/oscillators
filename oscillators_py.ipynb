{
 "cells": [
  {
   "cell_type": "code",
   "execution_count": 1,
   "metadata": {},
   "outputs": [],
   "source": [
    "import numpy as np\n",
    "from scipy.integrate import odeint\n",
    "import matplotlib.pyplot as plt\n",
    "from ipywidgets import interactive, Dropdown\n",
    "%matplotlib inline"
   ]
  },
  {
   "cell_type": "code",
   "execution_count": 2,
   "metadata": {},
   "outputs": [],
   "source": [
    "\"\"\"\n",
    "Reference:\n",
    "Thornton, S. T. and Marion, J. B. (2004). Classical Dynamics of Particles and Systems. Thomson\n",
    "Brooks/Cole, fifth edition\n",
    "\"\"\"\n",
    "\n",
    "def simple(y,t,omega_0):\n",
    "    x,v = y\n",
    "    dydt = [v, -x*omega_0**2]\n",
    "    return dydt\n",
    "\n",
    "def damped(y,t,beta,omega_0):\n",
    "    x,v = y\n",
    "    dydt = [v, -(2*beta*v + x*omega_0**2)]\n",
    "    return dydt\n",
    "\n",
    "def driven(y,t,beta,omega_0,A,omega):\n",
    "    x,v = y\n",
    "    dydt = [v, A*np.cos(omega*t) - 2*beta*v - x*omega_0**2]\n",
    "    return dydt\n",
    "\n",
    "def van_der_pol(y,t,a,mu,omega_0):\n",
    "    x,v = y\n",
    "    dydt = [v, -(mu*(x**2-a**2)*v + omega_0**2*x)]\n",
    "    return dydt"
   ]
  },
  {
   "cell_type": "code",
   "execution_count": 3,
   "metadata": {},
   "outputs": [],
   "source": [
    "L = 100 #boundary\n",
    "dt = 0.1\n",
    "t = np.arange(0,L,dt)\n",
    "\n",
    "#initialize constants for the functions\n",
    "y0 = [2,0]\n",
    "beta = 0.1\n",
    "omega_0 = 1\n",
    "A = 0.9\n",
    "omega = 0.25\n",
    "a = 1\n",
    "mu = 0.5"
   ]
  },
  {
   "cell_type": "code",
   "execution_count": 4,
   "metadata": {
    "scrolled": true
   },
   "outputs": [],
   "source": [
    "#solve differential equation function\n",
    "# soln = odeint(simple,y0,t,args=(omega_0,))"
   ]
  },
  {
   "cell_type": "code",
   "execution_count": 5,
   "metadata": {},
   "outputs": [],
   "source": [
    "# positions = soln[:,0]\n",
    "# velocities = soln[:,1]"
   ]
  },
  {
   "cell_type": "code",
   "execution_count": 6,
   "metadata": {
    "scrolled": false
   },
   "outputs": [],
   "source": [
    "#static plot\n",
    "# plt.plot(t,positions,label=\"POSITION\")\n",
    "# plt.plot(t,velocities,label=\"VELOCITY\")\n",
    "# plt.title(\"Position/Velocity Plot\")\n",
    "# plt.grid()\n",
    "# plt.legend(loc=\"best\")"
   ]
  },
  {
   "cell_type": "code",
   "execution_count": 7,
   "metadata": {},
   "outputs": [],
   "source": [
    "#phase plot \n",
    "# plt.title(\"pos/velo phase plot\")\n",
    "# plt.plot(positions,velocities)\n",
    "# plt.grid()"
   ]
  },
  {
   "cell_type": "code",
   "execution_count": 8,
   "metadata": {},
   "outputs": [],
   "source": [
    "menu = Dropdown(options=[(simple.__name__,simple),\n",
    "                         (damped.__name__,damped),\n",
    "                         (driven.__name__,driven),\n",
    "                         (van_der_pol.__name__,van_der_pol)])"
   ]
  },
  {
   "cell_type": "code",
   "execution_count": 9,
   "metadata": {},
   "outputs": [],
   "source": [
    "def plot(omega_0,beta,A,omega,a,mu):\n",
    "    # idk how to this lol\n",
    "    # di ko magwang nag aadjust yung fxn using *args or **kwargs\n",
    "    # oh well papel\n",
    "    fxn = menu.value\n",
    "    \n",
    "    if fxn == simple:    \n",
    "        soln = odeint(fxn,y0,t,args=(omega_0,))\n",
    "    elif fxn == damped:\n",
    "        soln = odeint(fxn,y0,t,args=(beta,omega_0))\n",
    "    elif fxn == driven:\n",
    "        soln = odeint(fxn,y0,t,args=(beta,omega_0,A,omega))\n",
    "    elif fxn == van_der_pol:\n",
    "        soln = odeint(fxn,y0,t,args=(a,mu,omega_0))\n",
    "        \n",
    "    positions = soln[:,0]\n",
    "    velocities = soln[:,1]\n",
    "    \n",
    "    fig, ax = plt.subplots(nrows=2,ncols=1,figsize=(6,10))\n",
    "    \n",
    "    #position/velocity plot\n",
    "    ax[0].plot(t,positions,label=\"POSITION\")\n",
    "    ax[0].plot(t,velocities,label=\"VELOCITY\")\n",
    "    ax[0].grid()\n",
    "    ax[0].title.set_text(\"Position/Velocity Plot\")\n",
    "    ax[0].legend(loc=2)\n",
    "    \n",
    "    #phase plot\n",
    "    ax[1].plot(positions,velocities)\n",
    "    ax[1].grid()\n",
    "    ax[1].title.set_text(\"Phase Plot\")\n",
    "    \n",
    "    fig.tight_layout()"
   ]
  },
  {
   "cell_type": "code",
   "execution_count": 10,
   "metadata": {},
   "outputs": [],
   "source": [
    "plot1 = interactive(plot,\n",
    "                    omega_0=(-1,1,0.1),\n",
    "                    beta=(-1,1,0.1),\n",
    "                    A=(-1,1,0.1),\n",
    "                    omega=(-1,1,0.1),\n",
    "                    a=(-1,1,0.1),\n",
    "                    mu=(-1,1,0.1))"
   ]
  },
  {
   "cell_type": "code",
   "execution_count": 11,
   "metadata": {},
   "outputs": [
    {
     "data": {
      "application/vnd.jupyter.widget-view+json": {
       "model_id": "912d7bdd352a47fba94f23889ba8ff51",
       "version_major": 2,
       "version_minor": 0
      },
      "text/plain": [
       "Dropdown(options=(('simple', <function simple at 0x000002BE56F60DC8>), ('damped', <function damped at 0x000002…"
      ]
     },
     "metadata": {},
     "output_type": "display_data"
    }
   ],
   "source": [
    "menu"
   ]
  },
  {
   "cell_type": "code",
   "execution_count": 12,
   "metadata": {},
   "outputs": [
    {
     "data": {
      "application/vnd.jupyter.widget-view+json": {
       "model_id": "fa9892357e544857b36f6fe3baf93f7e",
       "version_major": 2,
       "version_minor": 0
      },
      "text/plain": [
       "interactive(children=(FloatSlider(value=0.0, description='omega_0', max=1.0, min=-1.0), FloatSlider(value=0.0,…"
      ]
     },
     "metadata": {},
     "output_type": "display_data"
    }
   ],
   "source": [
    "plot1"
   ]
  },
  {
   "cell_type": "code",
   "execution_count": null,
   "metadata": {
    "scrolled": true
   },
   "outputs": [],
   "source": []
  },
  {
   "cell_type": "code",
   "execution_count": null,
   "metadata": {},
   "outputs": [],
   "source": []
  }
 ],
 "metadata": {
  "kernelspec": {
   "display_name": "Python 3",
   "language": "python",
   "name": "python3"
  },
  "language_info": {
   "codemirror_mode": {
    "name": "ipython",
    "version": 3
   },
   "file_extension": ".py",
   "mimetype": "text/x-python",
   "name": "python",
   "nbconvert_exporter": "python",
   "pygments_lexer": "ipython3",
   "version": "3.7.4"
  }
 },
 "nbformat": 4,
 "nbformat_minor": 2
}
